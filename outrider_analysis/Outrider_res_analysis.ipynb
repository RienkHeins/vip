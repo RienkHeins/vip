{
 "cells": [
  {
   "cell_type": "code",
   "execution_count": null,
   "id": "f7213cf7",
   "metadata": {},
   "outputs": [],
   "source": [
    "library(\"OUTRIDER\")"
   ]
  },
  {
   "cell_type": "code",
   "execution_count": null,
   "id": "4fc8ebe4",
   "metadata": {},
   "outputs": [],
   "source": [
    "library(dplyr)"
   ]
  },
  {
   "cell_type": "code",
   "execution_count": null,
   "id": "c9c4b0c8",
   "metadata": {},
   "outputs": [],
   "source": [
    "# Insert path to ods in place of ODS in readRDS function\n",
    "ods <- readRDS(\"ODS\")\n",
    "res <- results(ods)"
   ]
  },
  {
   "cell_type": "code",
   "execution_count": null,
   "id": "b5ffd3df",
   "metadata": {},
   "outputs": [],
   "source": [
    "# insert names of samples to sample_names variable to filter\n",
    "\n",
    "sample_names <- c(\"samples\")\n",
    "res <- res[res$sampleID %in% c(sample_names)]"
   ]
  },
  {
   "cell_type": "code",
   "execution_count": null,
   "id": "32c45576",
   "metadata": {},
   "outputs": [],
   "source": [
    "# Check amount of results\n",
    "dim(res)"
   ]
  },
  {
   "cell_type": "code",
   "execution_count": null,
   "id": "b9745215",
   "metadata": {},
   "outputs": [],
   "source": [
    "# see results table\n",
    "head(res)\n",
    "\n",
    "# add ensembl_ids and gene names to table\n",
    "genes <- read.table(\"/groups/umcg-gdio/tmp01/umcg-rheins-kars/vip/resources/gado/v1.0.3/genes.txt\", header=FALSE)\n",
    "\n",
    "get_gene <- function(gene) {\n",
    "    return(strsplit(gene, '[.]')[[1]][[1]])\n",
    "}\n",
    "\n",
    "get_gene_name <- function(ensembl_id) {\n",
    "    if(ensembl_id %in% genes$V1){\n",
    "        return(genes[genes$V1==ensembl_id, 2])\n",
    "    } else {\n",
    "        return(ensembl_id)\n",
    "    }\n",
    "}\n",
    "\n",
    "res$ensembl_id <- sapply(res$geneID, get_gene)\n",
    "res$geneNames <- sapply(res$ensembl_id, get_gene_name)"
   ]
  },
  {
   "cell_type": "code",
   "execution_count": null,
   "id": "7ca02acc",
   "metadata": {},
   "outputs": [],
   "source": [
    "# see 50 most significant results\n",
    "res <- res[order(res$padjust),]\n",
    "head(res, 50)"
   ]
  },
  {
   "cell_type": "code",
   "execution_count": null,
   "id": "aebad676",
   "metadata": {},
   "outputs": [],
   "source": [
    "# Insert gene of interest found from tables to create expression plot, select name as in geneID\n",
    "plotExpressionRank(ods, \"Gene of interest\", basePlot=TRUE)"
   ]
  },
  {
   "cell_type": "code",
   "execution_count": null,
   "id": "3a2460de",
   "metadata": {},
   "outputs": [],
   "source": [
    "#Insert sample of interest to create volcano plot\n",
    "plotVolcano(ods, \"sample of interest\", basePlot=TRUE)"
   ]
  }
 ],
 "metadata": {
  "kernelspec": {
   "display_name": "R",
   "language": "R",
   "name": "ir"
  },
  "language_info": {
   "codemirror_mode": "r",
   "file_extension": ".r",
   "mimetype": "text/x-r-source",
   "name": "R",
   "pygments_lexer": "r",
   "version": "4.3.0"
  }
 },
 "nbformat": 4,
 "nbformat_minor": 5
}
